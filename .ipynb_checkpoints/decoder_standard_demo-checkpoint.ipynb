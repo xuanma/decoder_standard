{
 "cells": [
  {
   "cell_type": "code",
   "execution_count": 2,
   "metadata": {},
   "outputs": [],
   "source": [
    "import numpy as np\n",
    "import fnmatch, os, sys\n",
    "sys.path.append('D:\\\\OneDrive\\\\codes\\\\xds')"
   ]
  },
  {
   "cell_type": "markdown",
   "metadata": {},
   "source": [
    "### Loading data from an xds format file"
   ]
  },
  {
   "cell_type": "code",
   "execution_count": 3,
   "metadata": {},
   "outputs": [
    {
     "name": "stdout",
     "output_type": "stream",
     "text": [
      "Here are the files under this folder: \n",
      "\n",
      "['20190815_Greyson_Key_001.mat' '20190815_Greyson_Key_002.mat'\n",
      " '20190911_Greyson_Key_003.mat' '20190911_Greyson_Key_004.mat'\n",
      " '20190911_Greyson_PG_001.mat' '20190911_Greyson_PG_002.mat']\n"
     ]
    }
   ],
   "source": [
    "from xds import lab_data, list_to_nparray, smooth_binned_spikes\n",
    "\n",
    "base_path = \"D:/OneDrive/data/lab_data/Greyson_grasping/\"\n",
    "file_list = fnmatch.filter(os.listdir(base_path), \"*.mat\")\n",
    "file_list = np.sort(file_list)\n",
    "print(\"Here are the files under this folder: \\n\")\n",
    "print(file_list)"
   ]
  },
  {
   "cell_type": "code",
   "execution_count": 4,
   "metadata": {},
   "outputs": [
    {
     "name": "stdout",
     "output_type": "stream",
     "text": [
      "D:/OneDrive/data/lab_data/Greyson_grasping/20190815_Greyson_Key_001.mat\n",
      "Monkey: Greyson\n",
      "Task: multi_gadget\n",
      "Collected on 2019/8/15 20:9:56.486 \n",
      "Raw file name is 20190815_Greyson_Key_001\n",
      "The array is in M1\n",
      "There are 96 neural channels\n",
      "Sorted? 0\n",
      "There are 12 EMG channels\n",
      "Current bin width is 0.0010 seconds\n",
      "The name of each EMG channel:\n",
      "EMG_FCR\n",
      "EMG_FDS1\n",
      "EMG_FDP3\n",
      "EMG_PT\n",
      "EMG_APB\n",
      "EMG_FPB\n",
      "EMG_LUM\n",
      "EMG_1DI\n",
      "EMG_EPL\n",
      "EMG_SUP\n",
      "EMG_ECU\n",
      "EMG_EDC1\n",
      "The dataset lasts 900.0090 seconds\n",
      "There are 126 trials\n",
      "In 113 trials the monkey got reward\n",
      "The new bin width is 0.0500 s\n"
     ]
    }
   ],
   "source": [
    "file_number = 0\n",
    "bin_size = 0.05\n",
    "dataset = lab_data(base_path, file_list[file_number])\n",
    "dataset.update_bin_data(bin_size)"
   ]
  },
  {
   "cell_type": "markdown",
   "metadata": {},
   "source": [
    "### Dividing training and testing sets and formatting data for decoder training"
   ]
  },
  {
   "cell_type": "code",
   "execution_count": null,
   "metadata": {},
   "outputs": [],
   "source": [
    "from wiener_filter import format_data\n",
    "train_test_ratio = 0.6 # which means 60% data in this set for training, and 40% for testing\n",
    "total_sample = np.size(dataset.spike_counts, 0)\n",
    "train_x = dataset.spike_counts[:int(train_test_ratio*total_sample), :], \n",
    "train_y = dataset.EMG[:int(train_test_ratio*total_sample), :]\n",
    "test_x = dataset.spike_counts[:int(train_test_ratio*total_sample), :], \n",
    "test_y = dataset.EMG[:int(train_test_ratio*total_sample), :]\n"
   ]
  },
  {
   "cell_type": "code",
   "execution_count": null,
   "metadata": {},
   "outputs": [],
   "source": []
  },
  {
   "cell_type": "code",
   "execution_count": null,
   "metadata": {},
   "outputs": [],
   "source": []
  },
  {
   "cell_type": "code",
   "execution_count": null,
   "metadata": {},
   "outputs": [],
   "source": [
    "from wiener_filter import dataset_for_WF_multifile\n",
    "from wiener_filter import wiener_cascade_train, wiener_cascade_test, wiener_only_train,w_filter_test\n",
    "from util import vaf\n",
    "\n",
    "n_lags = 20\n",
    "train_x_wiener, train_y_wiener = dataset_for_WF_multifile(train_spike, train_emg, n_lags)\n",
    "print(np.size(train_x_wiener, 0))\n",
    "test_x_wiener, test_y_wiener = dataset_for_WF_multifile(test_spike, test_emg, n_lags)\n",
    "print(np.size(test_x_wiener, 0))\n",
    "\n",
    "H_reg, res_lsq = wiener_cascade_train(train_x_wiener, train_y_wiener, l2 = 0)\n",
    "test_y_wiener_pred = wiener_cascade_test(test_x_wiener, H_reg, res_lsq)\n",
    "print(vaf(test_y_wiener, test_y_wiener_pred))\n",
    "\n",
    "H_reg = wiener_only_train(train_x_wiener, train_y_wiener, l2 = 0)\n",
    "test_y_wiener_pred = w_filter_test(test_x_wiener, H_reg)\n",
    "print(vaf(test_y_wiener, test_y_wiener_pred))"
   ]
  },
  {
   "cell_type": "code",
   "execution_count": null,
   "metadata": {},
   "outputs": [],
   "source": []
  },
  {
   "cell_type": "code",
   "execution_count": null,
   "metadata": {},
   "outputs": [],
   "source": []
  },
  {
   "cell_type": "code",
   "execution_count": null,
   "metadata": {},
   "outputs": [],
   "source": []
  },
  {
   "cell_type": "code",
   "execution_count": null,
   "metadata": {},
   "outputs": [],
   "source": []
  },
  {
   "cell_type": "code",
   "execution_count": null,
   "metadata": {},
   "outputs": [],
   "source": []
  }
 ],
 "metadata": {
  "kernelspec": {
   "display_name": "Python 3.6.8 64-bit ('pytorch': conda)",
   "language": "python",
   "name": "python36864bitpytorchconda20767a5b921d4d92bb1e06aac3efd3e1"
  },
  "language_info": {
   "codemirror_mode": {
    "name": "ipython",
    "version": 3
   },
   "file_extension": ".py",
   "mimetype": "text/x-python",
   "name": "python",
   "nbconvert_exporter": "python",
   "pygments_lexer": "ipython3",
   "version": "3.6.8"
  }
 },
 "nbformat": 4,
 "nbformat_minor": 2
}
